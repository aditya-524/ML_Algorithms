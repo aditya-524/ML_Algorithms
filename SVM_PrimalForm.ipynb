{
 "cells": [
  {
   "attachments": {},
   "cell_type": "markdown",
   "metadata": {},
   "source": [
    "#  SVM Primal Form"
   ]
  },
  {
   "cell_type": "markdown",
   "metadata": {},
   "source": [
    "#### Support Vector Machines (SVM) is a popular machine learning algorithm used for classification and regression analysis. In this implementation, we will be using SVM for binary classification in the primal form.\n",
    "\n",
    "#### The primal form of SVM involves finding the optimal hyperplane that separates the two classes of data. The hyperplane is defined by a weight vector `w` and a bias term `b`. The goal is to find the values of `w` and `b` that maximize the margin between the two classes of data.\n",
    "\n",
    "#### To find the optimal values of `w` and `b`, we can use convex optimization. We can define an objective function that maximizes the margin subject to the constraint that all data points are correctly classified. This can be formulated as a quadratic optimization problem, which can be solved using a convex optimization solver such as CVXPY.\n",
    "\n",
    "The steps taken in this implementation are as follows:\n",
    "\n",
    "1. Import the necessary libraries: We import the CVXPY library for convex optimization, and the Pandas and NumPy libraries for data manipulation.\n",
    "\n",
    "2. Load the training and test datasets: We load the training and test datasets from CSV files using the Pandas library. We extract the input features and target labels from the datasets.\n",
    "\n",
    "3. Preprocess the data: We preprocess the data by replacing the target labels with -1 and 1, and normalizing the input features.\n",
    "\n",
    "4. Define the SVM model: We define the SVM model using CVXPY. We define the weight vector `w` and bias term `b` as variables, and define the objective function and constraints.\n",
    "\n",
    "5. Train the SVM model: We solve the optimization problem using CVXPY to find the optimal values of `w` and `b`.\n",
    "\n",
    "6. Evaluate the SVM model: We evaluate the SVM model on the test dataset by computing the accuracy and confusion matrix."
   ]
  },
  {
   "attachments": {},
   "cell_type": "markdown",
   "metadata": {},
   "source": [
    "\n",
    "Implementation of training and testing of soft-margin Linear Support Vector Machine in its primal form, that is,\n",
    "\n",
    "$$\\min_{\\mathbf{w},b,\\{\\xi_i\\}} \\frac{1}{2} \\|\\mathbf{w}\\|_2^2 + \\frac{C}{N} \\sum_{i=1}^N \\xi_i \\nonumber \\\\ s.t.~~ y_i (\\mathbf{w}^\\top \\mathbf{x}_i + b) \\ge 1 - \\xi_i, ~~\\forall i \\nonumber \\\\ \\xi_i \\ge 0 \\nonumber$$\n",
    "Using CVXPY "
   ]
  },
  {
   "cell_type": "code",
   "execution_count": 2,
   "metadata": {},
   "outputs": [],
   "source": [
    "import cvxpy as cp # convex optimization package\n",
    "import pandas as pd # data processing, CSV file I/O (e.g. pd.read_csv)\n",
    "import numpy as np # linear algebra\n",
    "\n",
    "# get training dataset\n",
    "train = \"train.csv\"\n",
    "df = pd.read_csv(train, header=None) # read csv file\n",
    "X_train = df[:2000].iloc[:, 1:].to_numpy() # get features (2000 samples) \n",
    "Y_train = df[:2000].iloc[:, 0].replace(0, -1).to_numpy() # get labels (2000 samples) change 0 to -1\n",
    "\n",
    "# get test dataset\n",
    "test = \"test.csv\" \n",
    "df = pd.read_csv(test, header=None) \n",
    "X_test = df.iloc[:1000, 1:].to_numpy() \n",
    "Y_test = df.iloc[:1000, 0].replace(0, -1).to_numpy()\n"
   ]
  },
  {
   "cell_type": "code",
   "execution_count": 3,
   "metadata": {},
   "outputs": [
    {
     "name": "stdout",
     "output_type": "stream",
     "text": [
      "Please copy the folowing result to Question 1 \"sum(W) = \n",
      "0.79\n",
      "Please copy the folowing result to Question 1 \"b = \"\n",
      "1.75\n"
     ]
    }
   ],
   "source": [
    "# train linear svm in primal form\n",
    "def svm_train_primal(data_train, label_train, regularisation_para_c):\n",
    "    X, Y = data_train, label_train # X is the data matrix, Y is the label matrix\n",
    "    n_samples, m_features = np.shape(X) # n_samples is the number of samples, m_features is the number of features\n",
    "    \n",
    "    W_value = 0\n",
    "    b_value = 0\n",
    "    slack_var_value = 0\n",
    "\n",
    "# ====================== CODE HERE ======================  \n",
    "    # Reference used for SVM Primal <https://ai538393399.wordpress.com/2020/11/25/svm-using-cvxpy/>\n",
    "    W = cp.Variable(m_features) # Weight Matrix\n",
    "    b = cp.Variable() # Also known as gamma term but tis the b value from above equation\n",
    "    slack_var = cp.Variable(n_samples) # Psi fromm the above equation  \n",
    "    objective = cp.Minimize(0.5 * cp.sum_squares(W) + \n",
    "                            (regularisation_para_c/n_samples) * \n",
    "                            cp.sum(slack_var)) # Objective function from above equation\n",
    "    constraints = [cp.multiply(Y,  X @ W  + b) - 1 + slack_var >= 0, \n",
    "                   slack_var >= 0] # Constraints from above equation\n",
    "    prob = cp.Problem(objective, constraints) # Problem to be solved\n",
    "    prob.solve()\n",
    "    W_value = W.value\n",
    "    b_value = b.value\n",
    "    slack_var_value = slack_var.value\n",
    "# ================================================================\n",
    "\n",
    "    return [W_value, b_value, slack_var_value]\n",
    "\n",
    "# train primal model\n",
    "c = 100 # regularisation parameter\n",
    "model_primal = svm_train_primal(X_train, Y_train, c) # train primal model\n",
    "\n",
    "# output svm primal form solutions\n",
    "W = model_primal[0] # W is the weight matrix\n",
    "b = model_primal[1] # b is the bias term\n",
    "\n",
    "print('Please copy the folowing result to Question 1 \"sum(W) = ')\n",
    "print(np.round(np.sum(W),2))\n",
    "print('Please copy the folowing result to Question 1 \"b = \"')\n",
    "print(np.round(b,2))"
   ]
  },
  {
   "cell_type": "code",
   "execution_count": 4,
   "metadata": {},
   "outputs": [
    {
     "name": "stdout",
     "output_type": "stream",
     "text": [
      "Please copy the folowing result line to Question 1 \"Accuracy = )\"\n",
      "0.96\n"
     ]
    }
   ],
   "source": [
    "# predict accuracy of svm model on test dataset\n",
    "def svm_predict(data_test, label_test, svm_model):\n",
    "    \n",
    "    acc = 0.0\n",
    "    \n",
    "# ======================CODE HERE ======================  \n",
    "    X = data_test # Here we load the data\n",
    "    Y = label_test # Here we load the label\n",
    "    W = svm_model[0] # Here we load the trained parameters\n",
    "    b = svm_model[1] # Here we load the trained parameters\n",
    "    Y_pred = np.sign(X @ W + b) # Here we ompute the predicted labels\n",
    "    acc = np.mean(Y_pred == Y) # Here we compute the accuracy\n",
    "# ==========================================================\n",
    "\n",
    "    return acc\n",
    "\n",
    "# predict and output primal accuracy\n",
    "accuracy = svm_predict(X_test, Y_test, model_primal)\n",
    "print('Please copy the folowing result line to Question 1 \"Accuracy = )\"')\n",
    "print(np.round(accuracy,2))"
   ]
  }
 ],
 "metadata": {
  "kernelspec": {
   "display_name": "Python 3",
   "language": "python",
   "name": "python3"
  },
  "language_info": {
   "codemirror_mode": {
    "name": "ipython",
    "version": 3
   },
   "file_extension": ".py",
   "mimetype": "text/x-python",
   "name": "python",
   "nbconvert_exporter": "python",
   "pygments_lexer": "ipython3",
   "version": "3.10.4"
  },
  "orig_nbformat": 4
 },
 "nbformat": 4,
 "nbformat_minor": 2
}
