{
 "cells": [
  {
   "attachments": {},
   "cell_type": "markdown",
   "metadata": {},
   "source": [
    "#  Implementing k-NN"
   ]
  },
  {
   "attachments": {},
   "cell_type": "markdown",
   "metadata": {},
   "source": [
    "Implementation k-NN. \n",
    "\n",
    "\n",
    "1. Preprocessing of data\n",
    "2. The code defines a function `distance(x1, x2)` that calculates the Euclidean distance between two data points `x1` and `x2`.\n",
    "3. The code defines a function `knn(X_train, Y_train, X_test, k=9)` that trains a k-nearest neighbor model on the training data `X_train` and `Y_train`, and tests the model on the test data `X_test` using `k` nearest neighbors. The function returns the predicted values for the test data.\n",
    "4. The code applies the `knn` function to the training and test data with `k=9` to predict the survival of each passenger in the test set.\n",
    "5. The code calculates the accuracy of the model by comparing the predicted survival values to the actual survival values in the test set.\n",
    "6. The code prints the accuracy of the model rounded to two decimal places.\n",
    "\n",
    "The `distance` function calculates the Euclidean distance between two data points by iterating over each feature and summing the squared differences between the corresponding feature values. The function then takes the square root of the sum to obtain the final distance.\n",
    "\n",
    "The `knn` function trains a k-nearest neighbor model by iterating over each test data point and finding the `k` nearest neighbors in the training data using the `distance` function. The function then assigns a class label to the test data point based on the majority class of the nearest neighbors. The function returns the predicted class labels for all test data points."
   ]
  },
  {
   "cell_type": "code",
   "execution_count": 1,
   "metadata": {},
   "outputs": [],
   "source": [
    "import numpy as np\n",
    "import pandas as pd\n",
    "# DO NOT use any other import statements for this question\n",
    "\n",
    "df = pd.read_csv('titanic.csv')\n",
    "data = df[['Survived', 'Pclass', 'Sex', 'Age', 'SibSp', 'Parch']].dropna()\n",
    "data.loc[data[\"Sex\"] == \"male\", \"Sex\"] = 1\n",
    "data.loc[data[\"Sex\"] == \"female\", \"Sex\"] = 0\n",
    "data = np.array(data)\n",
    "X, Y = data[:, 1:], data[:, 0]\n",
    "\n",
    "# normalise all cols\n",
    "for c in range(X.shape[1]):\n",
    "    X[:,c] = (max(X[:,c]) -  X[:,c])/(max(X[:,c]) - min(X[:,c]))\n",
    "    \n",
    "# break into train/test\n",
    "split = int(0.8 * data.shape[0])\n",
    "\n",
    "X_train = X[:split]\n",
    "X_test = X[split:]\n",
    "Y_train = Y[:split]\n",
    "Y_test = Y[split:]\n",
    "\n",
    "# Add intercept term to X\n",
    "X_train = np.concatenate([np.ones((X_train.shape[0], 1)), X_train], axis=1)\n",
    "X_test = np.concatenate([np.ones((X_test.shape[0], 1)), X_test], axis=1)"
   ]
  },
  {
   "cell_type": "code",
   "execution_count": 2,
   "metadata": {},
   "outputs": [],
   "source": [
    "def distance(x1, x2):\n",
    "    \"\"\"\n",
    "    Calculates Euclidean distance between two point x1 and x2.\n",
    "    \n",
    "    Args:\n",
    "      x1                  : Data point, a numeric vector of size n (number of features)\n",
    "      x2                  : Data point, a numeric vector of size n (number of features)\n",
    "      \n",
    "    Returns:\n",
    "      d (float)           : Euclidean distance (scalar) between x1 and x2 in feature space \n",
    "      \"\"\"\n",
    "    \n",
    "    d = 0.0\n",
    "    \n",
    "    # ===================== CODE HERE ======================\n",
    "    for i in range(len(x1)):\n",
    "      d += ((x1[i] - x2[i]) ** 2)\n",
    "    d = np.sqrt(d)\n",
    "    # ===========================================================\n",
    "    \n",
    "    return d"
   ]
  },
  {
   "cell_type": "code",
   "execution_count": 4,
   "metadata": {},
   "outputs": [],
   "source": [
    "def knn(X_train, Y_train, X_test, k=9):\n",
    "    \"\"\"\n",
    "    Trains the k nearest neighbour model using X_train, Y_train dataset, \n",
    "    then tests the model on X_test, and returns predictions for the test set.\n",
    "    \n",
    "    Args:\n",
    "      X_train  : Training data, ndarray array, n examples with m features\n",
    "      Y_train  : ndarray vector of target n values\n",
    "      X_test   : Test data, ndarray array, n_test examples with m features\n",
    "      k (int)  : number of neighbour points to be used by k-NN\n",
    "      \n",
    "    Returns:\n",
    "      Y_pred   : ndarray vector of predicted n values, one predicted value for each test example\n",
    "      \"\"\"\n",
    "    Y_pred = []\n",
    "\n",
    "    # ===================== CODE HERE ======================\n",
    "\n",
    "    for i in range(X_test.shape[0]):\n",
    "        distances = []\n",
    "        for j in range(X_train.shape[0]):\n",
    "            dist = distance(X_test[i], X_train[j])\n",
    "            distances.append((dist, Y_train[j]))\n",
    "        distances = sorted(distances)\n",
    "        neighbors = distances[:k]\n",
    "        classes = {}\n",
    "        for n in neighbors:\n",
    "            if n[1] not in classes:\n",
    "                classes[n[1]] = 0\n",
    "            classes[n[1]] += 1\n",
    "        Y_pred.append(sorted(classes.items(), key=lambda x: x[1], reverse=True)[0][0])\n",
    "\n",
    "    # ============================================================= \n",
    "        \n",
    "    return Y_pred"
   ]
  },
  {
   "cell_type": "code",
   "execution_count": 5,
   "metadata": {},
   "outputs": [
    {
     "name": "stdout",
     "output_type": "stream",
     "text": [
      "Please copy the folowing result line to Question 5 \"(Accuracy = )\"\n",
      "0.83\n"
     ]
    }
   ],
   "source": [
    "\"\"\"\n",
    "Applying knn function coded above to calculate the accuracy\n",
    "\n",
    "\"\"\"\n",
    "accuracy = 0\n",
    "\n",
    "# ===================== CODE HERE ======================\n",
    "\n",
    "Y_pred = knn(X_train, Y_train, X_test, k=9)\n",
    "accuracy = np.sum(Y_pred == Y_test) / len(Y_test)\n",
    "# ===========================================================\n",
    "\n",
    "print('Please copy the folowing result line to Question 5 \"(Accuracy = )\"')\n",
    "print(np.round(accuracy,2))"
   ]
  }
 ],
 "metadata": {
  "kernelspec": {
   "display_name": "Python 3",
   "language": "python",
   "name": "python3"
  },
  "language_info": {
   "codemirror_mode": {
    "name": "ipython",
    "version": 3
   },
   "file_extension": ".py",
   "mimetype": "text/x-python",
   "name": "python",
   "nbconvert_exporter": "python",
   "pygments_lexer": "ipython3",
   "version": "3.10.4"
  },
  "orig_nbformat": 4
 },
 "nbformat": 4,
 "nbformat_minor": 2
}
