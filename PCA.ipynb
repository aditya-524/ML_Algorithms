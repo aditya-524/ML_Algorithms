{
 "cells": [
  {
   "attachments": {},
   "cell_type": "markdown",
   "metadata": {},
   "source": [
    "#  Principal Component Analysis"
   ]
  },
  {
   "attachments": {},
   "cell_type": "markdown",
   "metadata": {},
   "source": [
    "\n",
    "\n",
    "Performing PCA on the dataset to reduce each sample into a 10-dimensional feature vector.\n",
    "\n",
    "=========================================================================\n",
    "- Implementing PCA algorithm.\n",
    "    - Start\n",
    "        - Input: n no. of samples as matrix $X$ of $n$ rows and $k$ columns.\n",
    "        - Calculate the mean for each column. $$mean = \\frac {1}{n} \\sum \\limits _{i=1} ^{n}X_{ij}$$\n",
    "        - Calculate the centralised matrix $X_C$ and covariance matrix $C$. $$X_C=X-mean$$ $$C = \\frac {1}{n}(X_C)^TX_C$$\n",
    "        - Calculate the eigenvalues and eigenvectors using convariance matrix.\n",
    "        - Select top x principal components - which are eigen vector corresponding to top x eigen values. Construct matrix $P$.\n",
    "    - End\n",
    "    \n",
    "- Transforming the the data using the principal components (matrix $P$) obtained using the PCA algorithm. $$Transformed \\: Data = XP$$\n",
    "- Calculating the covariance matrix of the transformed data by first centralising it(mean subtracted) and then obtaining the covariance matrix."
   ]
  },
  {
   "cell_type": "code",
   "execution_count": 1,
   "metadata": {},
   "outputs": [],
   "source": [
    "\n",
    "import cvxpy as cp # convex optimization\n",
    "import pandas as pd # data processing\n",
    "import numpy as np # linear algebra\n",
    "\n",
    "train = \"train.csv\"\n",
    "df = pd.read_csv(train, header=None) # read csv file\n",
    "X = df[:2000].iloc[:, 1:].to_numpy() # convert to numpy array"
   ]
  },
  {
   "cell_type": "code",
   "execution_count": null,
   "metadata": {},
   "outputs": [],
   "source": [
    "# Selecting top 10 Principal components\n",
    "no_of_components = 10\n",
    "\n",
    "covariance_matrix_X = 0\n",
    "covariance_matrix_X_transformed = 0\n",
    "\n",
    "# ====================== CODE HERE ======================  \n",
    "#Reference used from wewbpage on PCA Implementation <https://towardsdatascience.com/a-step-by-step-implementation-of-principal-component-analysis-5520cc6cd598>\n",
    "\n",
    "mean = np.mean(X, axis=0)# Mean for each column\n",
    "\n",
    "X_C = X - mean # Calculate the centralized matrix X_C \n",
    "C = (1 / X.shape[0]) * X_C.T @ X_C # and covariance matrix C\n",
    "\n",
    "eigenvalues, eigenvectors = np.linalg.eig(C)# Calculate the eigenvalues and eigenvectors of the covariance matrix C\n",
    "\n",
    "# Select top x principal components\n",
    "sorted_indices = np.argsort(eigenvalues)[::-1] # Sort eigenvalues in descending order\n",
    "eigenvectors = eigenvectors[:, sorted_indices] # Sort eigenvectors according to eigenvalues\n",
    "P = eigenvectors[:, :no_of_components] # Select the top x eigenvectors\n",
    "\n",
    "# Transform the data using the principal components matrix P\n",
    "X_transformed = X_C @ P\n",
    "\n",
    "# Calculate the covariance matrix of the transformed data\n",
    "X_transformed_C = X_transformed - np.mean(X_transformed, axis=0)\n",
    "C_transformed = (1 / X_transformed.shape[0]) * X_transformed_C.T @ X_transformed_C \n",
    "\n",
    "# Calculate the sum of the covariance matrix of the original dataset and the transformed dataset\n",
    "covariance_matrix_X = C\n",
    "covariance_matrix_X_transformed = C_transformed\n",
    "\n",
    "# ==========================================================================\n",
    "\n",
    "sum_cov_X = np.sum(covariance_matrix_X)\n",
    "sum_cov_X_transformed = np.sum(covariance_matrix_X_transformed)\n",
    "\n",
    "print('Please copy the folowing result to Question 3 \"Cov X = )\"')\n",
    "print(np.round(np.sum(sum_cov_X),2))\n",
    "print('Please copy the folowing result to Question 3 \"Cov X_transformed = )\"')\n",
    "print(np.round(sum_cov_X_transformed,2))\n"
   ]
  }
 ],
 "metadata": {
  "kernelspec": {
   "display_name": "Python 3",
   "language": "python",
   "name": "python3"
  },
  "language_info": {
   "codemirror_mode": {
    "name": "ipython",
    "version": 3
   },
   "file_extension": ".py",
   "mimetype": "text/x-python",
   "name": "python",
   "nbconvert_exporter": "python",
   "pygments_lexer": "ipython3",
   "version": "3.10.4"
  },
  "orig_nbformat": 4
 },
 "nbformat": 4,
 "nbformat_minor": 2
}
