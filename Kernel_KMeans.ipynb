{
 "cells": [
  {
   "attachments": {},
   "cell_type": "markdown",
   "metadata": {},
   "source": [
    "#   Kernel k-Means"
   ]
  },
  {
   "attachments": {},
   "cell_type": "markdown",
   "metadata": {},
   "source": [
    "Implementing kernel k-means with RBF-kernel, using SpectralClustering from sklearn to reduce the programming efforTof the full implementation. \n",
    "Please implement kernel k-means algorithm with RBF-kernel, that is:\n",
    "\n",
    "$$(\\mathbf{x}_i,\\mathbf{x}_j) = \\exp(\\frac{-\\|\\mathbf{x}_i - \\mathbf{x}_j\\|_2^2}{2\\sigma^2})$$\n",
    "\n",
    "For the $2\\sigma^2$ parameter, instead of a constant value, please use mean pairwise squared distance between the datapoints, that is:\n",
    "\n",
    "$$2\\sigma^2 = \\frac{1}{N^2} \\sum_{i=1}^{N}\\sum_{j=1}^{N} \\| \\mathbf{x}_i -\\mathbf{x}_j\\|_2^2$$ \n",
    "\n",
    "In order to calculate paiwise distance matrix, we use scipy.spatial distance function. <br>\n",
    "As per documentation of the SpectralClustering function to use precomputed affinity matrix, which we supply with the above specification."
   ]
  },
  {
   "cell_type": "code",
   "execution_count": 1,
   "metadata": {},
   "outputs": [],
   "source": [
    "import pandas as pd\n",
    "import numpy as np\n",
    "from sklearn.cluster import SpectralClustering\n",
    "from scipy.spatial import distance\n",
    "\n",
    "df = pd.read_csv('train.csv', header = None)\n",
    "X = df.iloc[:1000,1:].to_numpy(copy=True)\n",
    "Y = df.iloc[:1000,:1].to_numpy(copy=True)"
   ]
  },
  {
   "cell_type": "code",
   "execution_count": 2,
   "metadata": {},
   "outputs": [
    {
     "name": "stdout",
     "output_type": "stream",
     "text": [
      "Please copy the folowing result to Question 4 \"Sum of centroids = )\"\n",
      "36.78\n"
     ]
    }
   ],
   "source": [
    "n_clusters = 10 # Number of clusters\n",
    "centroids_rbf = np.array(n_clusters) # Array to store centroids\n",
    "\n",
    "centroids_rbf = [] # Array to store centroids\n",
    "\n",
    "# ====================== CODE HERE ======================  \n",
    "# using random_state=0 in the SpectralClustering function to make the results reproducible.\n",
    "pairwise_distances = distance.squareform(distance.pdist(X, 'sqeuclidean')) # Pairwise distance calculation\n",
    "\n",
    "sigma_sq = np.mean(pairwise_distances) #Calculation for sigma squared parameter as per formula\n",
    "affinity_matrix = np.exp(-pairwise_distances / (sigma_sq))# As per RBF kernel using the formula\n",
    "clustering = SpectralClustering(n_clusters=n_clusters, affinity='precomputed', random_state=0) # Spectral Clustering\n",
    "labels = clustering.fit_predict(affinity_matrix) # Labels for the clusters\n",
    "\n",
    "centroids_rbf = [] # Array to store centroids\n",
    "for cluster in range(n_clusters): # For each cluster\n",
    "    centroids_rbf.append(np.mean(X[labels == cluster], axis=0))  # Calculate the centroid of the cluster\n",
    "\n",
    "centroids_rbf = np.array(centroids_rbf) # Convert to numpy array\n",
    "# =================================================================\n",
    "    \n",
    "print('Please copy the folowing result to Question 4 \"Sum of centroids = )\"') \n",
    "print(np.round(np.sum(centroids_rbf),2))\n"
   ]
  }
 ],
 "metadata": {
  "kernelspec": {
   "display_name": "Python 3",
   "language": "python",
   "name": "python3"
  },
  "language_info": {
   "codemirror_mode": {
    "name": "ipython",
    "version": 3
   },
   "file_extension": ".py",
   "mimetype": "text/x-python",
   "name": "python",
   "nbconvert_exporter": "python",
   "pygments_lexer": "ipython3",
   "version": "3.10.4"
  },
  "orig_nbformat": 4
 },
 "nbformat": 4,
 "nbformat_minor": 2
}
